{
 "cells": [
  {
   "cell_type": "code",
   "execution_count": 1,
   "metadata": {},
   "outputs": [],
   "source": [
    "from pathlib import Path\n",
    "from datetime import datetime"
   ]
  },
  {
   "cell_type": "code",
   "execution_count": 2,
   "metadata": {},
   "outputs": [],
   "source": [
    "def generate_creation_date(path):\n",
    "\tstat_result = path.stat()\n",
    "\tcreation_date = stat_result.st_birthtime\n",
    "\tutc_timestamp = datetime.utcfromtimestamp(creation_date)\n",
    "\treturn utc_timestamp.strftime('%Y_%m_%d_')"
   ]
  },
  {
   "cell_type": "code",
   "execution_count": 3,
   "metadata": {},
   "outputs": [],
   "source": [
    "def organize_images(image_folder):\n",
    "\tfile_types = ['.png', '.svg']\n",
    "\tfor path in Path(image_folder).iterdir():\n",
    "\t\tif path.is_file() and path.suffix in file_types:\n",
    "\t\t\tprint(f\"Renaming file {path.stem}\")\n",
    "\t\t\tdate = generate_creation_date(path)\n",
    "\t\t\tnew_path = Path(image_folder + date + path.stem + path.suffix)\n",
    "\t\t\tpath.rename(new_path)"
   ]
  },
  {
   "cell_type": "code",
   "execution_count": 4,
   "metadata": {},
   "outputs": [
    {
     "name": "stdout",
     "output_type": "stream",
     "text": [
      "Renaming file Monster04\n",
      "Renaming file Monster04_tn\n",
      "Renaming file monster05\n",
      "Renaming file monster01\n",
      "Renaming file monster02\n",
      "Renaming file monster02_tn\n",
      "Renaming file monster03\n",
      "Renaming file monster03\n",
      "Renaming file monster02_tn\n",
      "Renaming file monster02\n",
      "Renaming file monster01\n",
      "Renaming file monster05\n",
      "Renaming file Monster04_tn\n",
      "Renaming file Monster04\n",
      "Renaming file monster05_tn\n",
      "Renaming file monster01_tn\n",
      "Renaming file monster03_tn\n",
      "Renaming file monster03_tn\n",
      "Renaming file monster01_tn\n",
      "Renaming file monster05_tn\n"
     ]
    }
   ],
   "source": [
    "if __name__ == \"__main__\":\n",
    "\torganize_images('./images/')"
   ]
  },
  {
   "cell_type": "code",
   "execution_count": null,
   "metadata": {},
   "outputs": [],
   "source": []
  }
 ],
 "metadata": {
  "interpreter": {
   "hash": "84d3c0b7ec0621ff698973385bdff569ff087c315093dccd41541468df7c99a8"
  },
  "kernelspec": {
   "display_name": "Python 3.8.8 64-bit ('base': conda)",
   "name": "python3"
  },
  "language_info": {
   "codemirror_mode": {
    "name": "ipython",
    "version": 3
   },
   "file_extension": ".py",
   "mimetype": "text/x-python",
   "name": "python",
   "nbconvert_exporter": "python",
   "pygments_lexer": "ipython3",
   "version": "3.8.8"
  },
  "orig_nbformat": 4
 },
 "nbformat": 4,
 "nbformat_minor": 2
}
