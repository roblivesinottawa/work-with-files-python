{
 "cells": [
  {
   "cell_type": "code",
   "execution_count": 1,
   "source": [
    "from pathlib import Path\n",
    "from datetime import datetime"
   ],
   "outputs": [],
   "metadata": {}
  },
  {
   "cell_type": "code",
   "execution_count": 2,
   "source": [
    "def generate_creation_date(path):\n",
    "\tstat_result = path.stat()\n",
    "\tcreation_date = stat_result.st_birthtime\n",
    "\tutc_timestamp = datetime.utcfromtimestamp(creation_date)\n",
    "\treturn utc_timestamp.strftime('%Y_%m_%d_')"
   ],
   "outputs": [],
   "metadata": {}
  },
  {
   "cell_type": "code",
   "execution_count": 3,
   "source": [
    "def organize_images(image_folder):\n",
    "\tfile_types = ['.png', '.svg']\n",
    "\tfor path in Path(image_folder).iterdir():\n",
    "\t\tif path.is_file() and path.suffix in file_types:\n",
    "\t\t\tprint(f\"Renaming file {path.stem}\")\n",
    "\t\t\tdate = generate_creation_date(path)\n",
    "\t\t\tnew_path = Path(image_folder + date + path.stem + path.suffix)\n",
    "\t\t\tpath.rename(new_path)"
   ],
   "outputs": [],
   "metadata": {}
  },
  {
   "cell_type": "code",
   "execution_count": 4,
   "source": [
    "if __name__ == \"__main__\":\n",
    "\torganize_images('./images/')"
   ],
   "outputs": [
    {
     "output_type": "stream",
     "name": "stdout",
     "text": [
      "Renaming file Monster04\n",
      "Renaming file Monster04_tn\n",
      "Renaming file monster05\n",
      "Renaming file monster01\n",
      "Renaming file monster02\n",
      "Renaming file monster02_tn\n",
      "Renaming file monster03\n",
      "Renaming file monster03\n",
      "Renaming file monster02_tn\n",
      "Renaming file monster02\n",
      "Renaming file monster01\n",
      "Renaming file monster05\n",
      "Renaming file Monster04_tn\n",
      "Renaming file Monster04\n",
      "Renaming file monster05_tn\n",
      "Renaming file monster01_tn\n",
      "Renaming file monster03_tn\n",
      "Renaming file monster03_tn\n",
      "Renaming file monster01_tn\n",
      "Renaming file monster05_tn\n"
     ]
    }
   ],
   "metadata": {}
  },
  {
   "cell_type": "code",
   "execution_count": null,
   "source": [],
   "outputs": [],
   "metadata": {}
  }
 ],
 "metadata": {
  "orig_nbformat": 4,
  "language_info": {
   "name": "python",
   "version": "3.8.8",
   "mimetype": "text/x-python",
   "codemirror_mode": {
    "name": "ipython",
    "version": 3
   },
   "pygments_lexer": "ipython3",
   "nbconvert_exporter": "python",
   "file_extension": ".py"
  },
  "kernelspec": {
   "name": "python3",
   "display_name": "Python 3.8.8 64-bit ('base': conda)"
  },
  "interpreter": {
   "hash": "84d3c0b7ec0621ff698973385bdff569ff087c315093dccd41541468df7c99a8"
  }
 },
 "nbformat": 4,
 "nbformat_minor": 2
}