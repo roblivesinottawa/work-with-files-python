{
 "cells": [
  {
   "cell_type": "code",
   "execution_count": 25,
   "source": [
    "import os\n",
    "from pathlib import Path"
   ],
   "outputs": [],
   "metadata": {}
  },
  {
   "cell_type": "code",
   "execution_count": 31,
   "source": [
    "def make_output_dir():\n",
    "\t\"\"\"make a new directory to store files\"\"\"\n",
    "\tdir_path = Path(\"output/\")\n",
    "\tdir_path.mkdir(exist_ok=True)"
   ],
   "outputs": [],
   "metadata": {}
  },
  {
   "cell_type": "code",
   "execution_count": 32,
   "source": [
    "def write_content(content):\n",
    "    \"\"\"write contents to a file\"\"\"\n",
    "    with open('output/file_one.txt', 'w') as f:\n",
    "        f.write(content)"
   ],
   "outputs": [],
   "metadata": {}
  },
  {
   "cell_type": "code",
   "execution_count": 33,
   "source": [
    "def print_content():\n",
    "    \"\"\"read and print contents of a file\"\"\"\n",
    "    with open('output/file_one.txt', 'r') as f:\n",
    "        content = f.read()\n",
    "        print(content)"
   ],
   "outputs": [],
   "metadata": {}
  },
  {
   "cell_type": "code",
   "execution_count": 34,
   "source": [
    "content = \"\"\"Lorem ipsum dolor sit amet, consectetur adipiscing elit, \n",
    "sed do eiusmod tempor incididunt ut labore et dolore magna aliqua. \n",
    "Ut enim ad minim veniam, quis nostrud exercitation ullamco laboris \n",
    "nisi ut aliquip ex ea commodo consequat. Duis aute irure dolor in \n",
    "reprehenderit in voluptate velit esse cillum dolore eu fugiat nulla pariatur. \n",
    "Excepteur sint occaecat cupidatat non proident, \n",
    "sunt in culpa qui officia deserunt mollit anim id est laborum.\"\"\""
   ],
   "outputs": [],
   "metadata": {}
  },
  {
   "cell_type": "code",
   "execution_count": 35,
   "source": [
    "if __name__ == '__main__':\n",
    "    make_output_dir()\n",
    "    write_content(content)\n",
    "    print_content()"
   ],
   "outputs": [
    {
     "output_type": "stream",
     "name": "stdout",
     "text": [
      "Lorem ipsum dolor sit amet, consectetur adipiscing elit, \n",
      "sed do eiusmod tempor incididunt ut labore et dolore magna aliqua. \n",
      "Ut enim ad minim veniam, quis nostrud exercitation ullamco laboris \n",
      "nisi ut aliquip ex ea commodo consequat. Duis aute irure dolor in \n",
      "reprehenderit in voluptate velit esse cillum dolore eu fugiat nulla pariatur. \n",
      "Excepteur sint occaecat cupidatat non proident, \n",
      "sunt in culpa qui officia deserunt mollit anim id est laborum.\n"
     ]
    }
   ],
   "metadata": {}
  },
  {
   "cell_type": "code",
   "execution_count": 38,
   "source": [
    "def print_file_info():\n",
    "    with open('output/file_one.txt') as f:\n",
    "        print(f.read(20))"
   ],
   "outputs": [],
   "metadata": {}
  },
  {
   "cell_type": "code",
   "execution_count": 39,
   "source": [
    "if __name__ == '__main__':\n",
    "    print_file_info()"
   ],
   "outputs": [
    {
     "output_type": "stream",
     "name": "stdout",
     "text": [
      "Lorem ipsum dolor si\n"
     ]
    }
   ],
   "metadata": {}
  },
  {
   "cell_type": "code",
   "execution_count": 40,
   "source": [
    "def print_file_info_readlines():\n",
    "    with open('output/file_one.txt') as f:\n",
    "        lines = f.readlines()\n",
    "        print(lines[1])"
   ],
   "outputs": [],
   "metadata": {}
  },
  {
   "cell_type": "code",
   "execution_count": 41,
   "source": [
    "if __name__ == '__main__':\n",
    "    print_file_info_readlines()"
   ],
   "outputs": [
    {
     "output_type": "stream",
     "name": "stdout",
     "text": [
      "sed do eiusmod tempor incididunt ut labore et dolore magna aliqua. \n",
      "\n"
     ]
    }
   ],
   "metadata": {}
  },
  {
   "cell_type": "code",
   "execution_count": 42,
   "source": [
    "def print_file_content_one_line_at_time():\n",
    "\twith open('output/file_one.txt', 'r') as f:\n",
    "\t\tline = f.readline()\n",
    "\t\twhile line != '':\n",
    "\t\t\tprint(line, end='')\n",
    "\t\t\tline = f.readline()"
   ],
   "outputs": [],
   "metadata": {}
  },
  {
   "cell_type": "code",
   "execution_count": 43,
   "source": [
    "if __name__ == \"__main__\":\n",
    "\tprint_file_content_one_line_at_time()"
   ],
   "outputs": [
    {
     "output_type": "stream",
     "name": "stdout",
     "text": [
      "Lorem ipsum dolor sit amet, consectetur adipiscing elit, \n",
      "sed do eiusmod tempor incididunt ut labore et dolore magna aliqua. \n",
      "Ut enim ad minim veniam, quis nostrud exercitation ullamco laboris \n",
      "nisi ut aliquip ex ea commodo consequat. Duis aute irure dolor in \n",
      "reprehenderit in voluptate velit esse cillum dolore eu fugiat nulla pariatur. \n",
      "Excepteur sint occaecat cupidatat non proident, \n",
      "sunt in culpa qui officia deserunt mollit anim id est laborum."
     ]
    }
   ],
   "metadata": {}
  },
  {
   "cell_type": "code",
   "execution_count": null,
   "source": [],
   "outputs": [],
   "metadata": {}
  }
 ],
 "metadata": {
  "orig_nbformat": 4,
  "language_info": {
   "name": "python",
   "version": "3.9.7",
   "mimetype": "text/x-python",
   "codemirror_mode": {
    "name": "ipython",
    "version": 3
   },
   "pygments_lexer": "ipython3",
   "nbconvert_exporter": "python",
   "file_extension": ".py"
  },
  "kernelspec": {
   "name": "python3",
   "display_name": "Python 3.9.7 64-bit ('sqlalchemy-workspace': venv)"
  },
  "interpreter": {
   "hash": "56cc18b36b55d20914abbfe61b708167a02339a2b88935fb3ee79753c31bfb52"
  }
 },
 "nbformat": 4,
 "nbformat_minor": 2
}