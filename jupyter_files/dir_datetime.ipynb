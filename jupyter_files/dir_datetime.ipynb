{
 "cells": [
  {
   "cell_type": "code",
   "execution_count": 1,
   "source": [
    "from datetime import datetime\n",
    "import os"
   ],
   "outputs": [],
   "metadata": {}
  },
  {
   "cell_type": "code",
   "execution_count": 5,
   "source": [
    "def format_datetime(timestamp):\n",
    "    \"\"\"This function formats the date\"\"\"\n",
    "    utc_timestamp = datetime.utcfromtimestamp(timestamp)\n",
    "    formated_date = utc_timestamp.strftime(\"%d %b %Y %H %M %S\")\n",
    "    return formated_date"
   ],
   "outputs": [],
   "metadata": {}
  },
  {
   "cell_type": "code",
   "execution_count": 6,
   "source": [
    "def display_entries_in_directory(directory):\n",
    "\twith os.scandir(directory) as entries:\n",
    "\t\tfor entry in entries:\n",
    "\t\t\tprint(\"Name: \", entry.name)\n",
    "\t\t\tinfo = entry.stat()\n",
    "\t\t\tprint(f\"Creation Time: {format_datetime(info.st_birthtime)}\")\n",
    "\t\t\tprint(f\"Last Access Time: {format_datetime(info.st_atime)}\")\n",
    "\t\t\tprint(f\"Size: {info.st_size}\")"
   ],
   "outputs": [],
   "metadata": {}
  },
  {
   "cell_type": "code",
   "execution_count": 14,
   "source": [
    "def display_directories(directory):\n",
    "\twith os.scandir(directory) as entries:\n",
    "\t\tfor entry in entries:\n",
    "\t\t\tif entry.is_dir():\n",
    "\t\t\t\tprint(f\"Directory Name: {entry.name}\")"
   ],
   "outputs": [],
   "metadata": {}
  },
  {
   "cell_type": "code",
   "execution_count": 15,
   "source": [
    "def display_files(directory):\n",
    "\twith os.scandir(directory) as entries:\n",
    "\t\tfor entry in entries:\n",
    "\t\t\tif entry.is_file():\n",
    "\t\t\t\tprint(f\"File Name: {entry.name}\")"
   ],
   "outputs": [],
   "metadata": {}
  },
  {
   "cell_type": "code",
   "execution_count": 16,
   "source": [
    "if __name__ == \"__main__\":\n",
    "\t# display_entries_in_directory(\"../artwork\")\n",
    "\tdisplay_directories('../artwork')\n",
    "\tdisplay_files('../artwork')"
   ],
   "outputs": [
    {
     "output_type": "stream",
     "name": "stdout",
     "text": [
      "Directory Name: SVG\n",
      "Directory Name: PNG\n",
      "File Name: Monster_contact sheet.pdf\n"
     ]
    }
   ],
   "metadata": {}
  },
  {
   "cell_type": "code",
   "execution_count": null,
   "source": [],
   "outputs": [],
   "metadata": {}
  }
 ],
 "metadata": {
  "orig_nbformat": 4,
  "language_info": {
   "name": "python",
   "version": "3.9.7",
   "mimetype": "text/x-python",
   "codemirror_mode": {
    "name": "ipython",
    "version": 3
   },
   "pygments_lexer": "ipython3",
   "nbconvert_exporter": "python",
   "file_extension": ".py"
  },
  "kernelspec": {
   "name": "python3",
   "display_name": "Python 3.9.7 64-bit"
  },
  "interpreter": {
   "hash": "aee8b7b246df8f9039afb4144a1f6fd8d2ca17a180786b69acc140d282b71a49"
  }
 },
 "nbformat": 4,
 "nbformat_minor": 2
}