{
 "cells": [
  {
   "cell_type": "code",
   "execution_count": 1,
   "source": [
    "import glob"
   ],
   "outputs": [],
   "metadata": {}
  },
  {
   "cell_type": "code",
   "execution_count": 11,
   "source": [
    "def find_most_common_word():\n",
    "    txt_files = glob.glob('*.txt')\n",
    "    tracker = dict()\n",
    "    print(f\"Number of Txt Files: {len(txt_files)}\")\n",
    "\n",
    "    for txt in txt_files:\n",
    "        with open(txt) as f:\n",
    "            line = f.readline()\n",
    "            while line != '':\n",
    "                words = line.split()\n",
    "                for word in words:\n",
    "                    word = word.replace(',','').replace('.', '').lower()\n",
    "                    if word not in tracker:\n",
    "                        tracker[word] = 1\n",
    "                    else:\n",
    "                        tracker[word] = tracker[word] + 1\n",
    "                line = f.readline()\n",
    "\n",
    "    maxKey = max(tracker, key=tracker.get)\n",
    "    maxValue = max(tracker.values())\n",
    "\n",
    "    print(f\"Most common word: {maxKey}\")\n",
    "    print(f\"How many times: {maxValue}\")\n",
    "    print(f\"Dictionary: {tracker}\")"
   ],
   "outputs": [],
   "metadata": {}
  },
  {
   "cell_type": "code",
   "execution_count": 12,
   "source": [
    "if __name__ == \"__main__\":\n",
    "\tfind_most_common_word()"
   ],
   "outputs": [
    {
     "output_type": "stream",
     "name": "stdout",
     "text": [
      "Number of Txt Files: 4\n",
      "Most common word: and\n",
      "How many times: 41\n",
      "Dictionary: {'it': 4, 'has': 2, 'been': 2, 'a': 15, 'great': 2, 'year': 4, 'at': 3, 'h+': 5, 'sport!': 1, 'as': 6, 'board': 2, 'chair': 1, 'for': 11, 'the': 14, 'company': 3, 'i': 5, 'am': 1, 'delighted': 1, 'to': 35, 'fill': 1, 'you': 8, 'in': 16, 'on': 7, 'what': 2, 'we': 28, 'have': 2, 'doing': 3, 'and': 41, 'are': 5, 'hoping': 1, 'accomplish': 1, 'coming': 1, 'before': 1, 'get': 2, 'into': 1, 'few': 2, 'business': 2, 'details': 1, 'would': 1, 'like': 3, 'extend': 1, 'sincere': 1, 'thank': 2, 'our': 27, 'employees': 1, 'your': 2, 'dedication': 1, 'sport': 4, 'products': 11, 'customers': 5, 'from': 4, 'those': 3, 'test': 1, 'kitchen': 1, 'production': 1, 'line': 2, 'sales': 1, 'teams': 2, 'marketing': 1, 'team—we': 1, 'know': 4, 'is': 7, 'trite': 1, 'say': 2, 'this': 6, 'but': 1, 'cannot': 1, 'help': 3, 'it:': 1, 'without': 1, 'nothing': 1, 'ideas': 1, 'skills': 1, 'talents': 1, 'drive': 1, 'reflects': 1, 'values': 2, 'pushes': 1, 'us': 4, 'ahead': 1, 'bottom': 1, 'better': 3, 'than': 1, 'ever': 1, 'because': 2, 'of': 11, 'proposing': 1, 'an': 2, 'increase': 2, 'employee': 2, 'stock': 1, 'dividend': 1, 'share': 1, 'value': 1, 'roster': 1, 'annual': 1, 'stockholder': 1, 'meeting': 1, 'early': 1, 'past': 1, 'needed': 1, 'budget': 1, 'fruit': 2, 'nut': 2, 'ingredients': 3, 'unpredicted': 1, 'scarcity': 1, 'mainland': 1, 'fires': 1, 'unfortunately': 1, 'destroyed': 1, 'percentage': 1, 'usual': 1, 'sources': 1, 'had': 1, 'search': 1, 'comparable': 1, 'organic': 1, 'components': 1, 'sustainable': 1, 'suppliers': 1, 'resulted': 1, 'higher': 1, 'price': 1, 'per': 1, 'product': 2, 'produce': 1, 'however': 1, 'were': 2, 'very': 1, 'fortunate': 1, 'find': 2, 'new': 1, 'packaging': 1, 'resource': 1, 'that': 15, 'both': 1, 'quality': 1, 'lower': 1, 'cost': 1, 'which': 1, 'allowed': 1, 'keep': 3, 'food': 1, 'prices': 1, 'steady': 1, 'with': 4, 'everything': 2, 'make': 5, 'do': 3, 'mind': 1, 'community': 1, 'world': 2, 'live': 2, 'every': 2, 'move': 1, 'should': 1, 'place': 1, 'philanthropy': 1, 'extremely': 1, 'important': 2, 'fact': 1, 'pay': 1, 'each': 1, 'volunteer': 1, 'non-profit': 1, 'organizations': 1, 'their': 9, 'choice': 1, 'good': 2, 'breeds': 1, 'more': 2, 'happy': 1, 'promote': 1, 'cycle': 1, 'volunteerism': 1, 'keeps': 1, 'giving': 1, 'addition': 1, 'support': 3, 'local': 1, 'national': 1, 'emergency': 1, 'free': 1, 'energy': 2, 'bars': 3, 'donations': 1, 'last': 1, 'distributed': 1, 'over': 1, 'quarter': 1, 'million': 1, 'these': 1, 'personnel': 1, 'up': 3, 'strength': 1, 'endurance': 1, 'believe': 1, 'providing': 1, 'all': 3, 'information': 2, 'need': 1, 'informed': 1, 'decision': 1, 'purchase': 2, 'strive': 1, 'materials': 1, 'processing': 1, 'manufacturing': 1, 'data': 3, 'accessible': 1, 'possible': 1, 'website': 1, 'wwwhplussportcom': 1, 'nutritional': 4, 'facts': 1, 'garment': 1, 'available—and': 1, 'mean': 1, 'strongly': 2, 'feel': 2, 'transparent': 1, 'practices': 1, 'necessary': 1, 'keeping': 1, 'honest': 1, 'committed': 1, 'ideals': 1, 'deserve': 1, 'how': 2, 'create': 3, 'well': 1, 'work': 1, 'philosophy': 1, 'getting': 1, 'done': 1, 'ultimate': 1, 'goal:': 1, 'inspire': 1, 'expectation': 1, 'always': 1, 'best': 1, 'interest': 1, 'heart': 1, 'want': 3, 'them': 3, 'take': 1, 'pride': 1, 'accomplishments': 1, 'be': 1, 'proud': 1, 'there': 1, 'trust': 2, 'abilities': 1, 'will': 2, 'meet': 1, 'or': 1, 'surpass': 1, 'physical': 1, 'expectations': 1, 'so': 2, 'about': 1, 'continue': 1, 'offer': 1, '100-percent-happy': 1, 'guarantee': 1, 'founder': 1, 'henry': 2, 'twill': 1, 'set': 2, 'out': 1, '2006': 1, 'supplements': 3, 'made': 1, 'purest': 2, 'backed': 2, 'by': 3, 'scientific': 2, 'performance': 3, 'after': 1, 'recovering': 1, 'lengthy': 2, 'injury': 1, 'left': 1, 'him': 1, 'residual': 1, 'aches': 1, 'pains': 1, 'decreased': 1, 'athletic': 1, 'he': 3, 'was': 1, 'disheartened': 1, 'vast': 1, 'array': 1, 'market': 1, 'subsisted': 1, 'lofty': 1, 'claims': 2, 'little': 1, 'proof': 1, 'yearned': 1, 'simple': 1, 'natural': 2, 'form': 1, 'instead': 1, 'labels': 1, 'chemical': 1, 'names': 1, 'disclaimers': 1, 'also': 1, 'cares': 1, 'immensely': 1, 'environment': 1, 'wanted': 1, 'responsibly': 1, 'sourced': 1, 'when': 1, 'no': 1, 'lived': 1, 'his': 3, 'strict': 1, 'requirements': 1, 'sights': 1, 'creating': 1, 'catered': 1, 'own': 1, 'vision': 1, 'now': 1, 'decade': 1, 'half': 1, 'later': 1, 'h+sport': 1, 'offers': 1, 'rehydration': 1, 'solutions': 1, 'active': 2, 'wear': 1, 'enhances': 1, 'complements': 1, 'lifestyles': 1, 'not': 2, 'just': 1, 'buy': 1, 'products—everything': 1, 'created': 1, 'using': 1, 'renewable': 1, 'resources': 1, 'plus': 1, 'let': 1, 'much': 1, 'means': 1, 'them—what': 1, 'they': 1, 'success': 2, 'testament': 1}\n"
     ]
    }
   ],
   "metadata": {}
  },
  {
   "cell_type": "code",
   "execution_count": null,
   "source": [],
   "outputs": [],
   "metadata": {}
  }
 ],
 "metadata": {
  "orig_nbformat": 4,
  "language_info": {
   "name": "python",
   "version": "3.8.8",
   "mimetype": "text/x-python",
   "codemirror_mode": {
    "name": "ipython",
    "version": 3
   },
   "pygments_lexer": "ipython3",
   "nbconvert_exporter": "python",
   "file_extension": ".py"
  },
  "kernelspec": {
   "name": "python3",
   "display_name": "Python 3.8.8 64-bit ('base': conda)"
  },
  "interpreter": {
   "hash": "84d3c0b7ec0621ff698973385bdff569ff087c315093dccd41541468df7c99a8"
  }
 },
 "nbformat": 4,
 "nbformat_minor": 2
}