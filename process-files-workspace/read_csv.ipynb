{
 "cells": [
  {
   "cell_type": "code",
   "execution_count": 2,
   "source": [
    "%pip install pandas"
   ],
   "outputs": [
    {
     "output_type": "stream",
     "name": "stdout",
     "text": [
      "Collecting pandas\n",
      "  Downloading pandas-1.3.3-cp39-cp39-macosx_10_9_x86_64.whl (11.6 MB)\n",
      "\u001b[K     |████████████████████████████████| 11.6 MB 367 kB/s \n",
      "\u001b[?25hCollecting numpy>=1.17.3\n",
      "  Downloading numpy-1.21.2-cp39-cp39-macosx_10_9_x86_64.whl (17.0 MB)\n",
      "\u001b[K     |████████████████████████████████| 17.0 MB 114 kB/s \n",
      "\u001b[?25hCollecting pytz>=2017.3\n",
      "  Downloading pytz-2021.1-py2.py3-none-any.whl (510 kB)\n",
      "\u001b[K     |████████████████████████████████| 510 kB 252 kB/s \n",
      "\u001b[?25hRequirement already satisfied: python-dateutil>=2.7.3 in /Library/Frameworks/Python.framework/Versions/3.9/lib/python3.9/site-packages (from pandas) (2.8.2)\n",
      "Requirement already satisfied: six>=1.5 in /Library/Frameworks/Python.framework/Versions/3.9/lib/python3.9/site-packages (from python-dateutil>=2.7.3->pandas) (1.16.0)\n",
      "Installing collected packages: pytz, numpy, pandas\n",
      "\u001b[33m  WARNING: The scripts f2py, f2py3 and f2py3.9 are installed in '/Library/Frameworks/Python.framework/Versions/3.9/bin' which is not on PATH.\n",
      "  Consider adding this directory to PATH or, if you prefer to suppress this warning, use --no-warn-script-location.\u001b[0m\n",
      "Successfully installed numpy-1.21.2 pandas-1.3.3 pytz-2021.1\n",
      "\u001b[33mWARNING: You are using pip version 21.2.3; however, version 21.2.4 is available.\n",
      "You should consider upgrading via the '/usr/local/bin/python3 -m pip install --upgrade pip' command.\u001b[0m\n",
      "Note: you may need to restart the kernel to use updated packages.\n"
     ]
    }
   ],
   "metadata": {}
  },
  {
   "cell_type": "code",
   "execution_count": 3,
   "source": [
    "import csv\n",
    "import pandas as pd"
   ],
   "outputs": [],
   "metadata": {}
  },
  {
   "cell_type": "code",
   "execution_count": 4,
   "source": [
    "def display_csv_reader():\n",
    "\twith open('monsters.csv') as f:\n",
    "\t\treader = csv.reader(f, delimiter=',')\n",
    "\t\tfor row in reader:\n",
    "\t\t\tprint(row[1])"
   ],
   "outputs": [],
   "metadata": {}
  },
  {
   "cell_type": "code",
   "execution_count": 5,
   "source": [
    "\n",
    "def display_csv_reader_dict():\n",
    "\twith open('monsters.csv') as f:\n",
    "\t\tdictReader = csv.DictReader(f, delimiter=',')\n",
    "\t\tfor row in dictReader:\n",
    "\t\t\tprint(row[\"monsterName\"] + \" is priced at \" + row[\"price\"])"
   ],
   "outputs": [],
   "metadata": {}
  },
  {
   "cell_type": "code",
   "execution_count": 6,
   "source": [
    "\n",
    "def display_csv_pandas():\n",
    "\tdf = pd.read_csv('monsters.csv')\n",
    "\tprint(df)"
   ],
   "outputs": [],
   "metadata": {}
  },
  {
   "cell_type": "code",
   "execution_count": 7,
   "source": [
    "if __name__ == \"__main__\":\n",
    "\tdisplay_csv_pandas()"
   ],
   "outputs": [
    {
     "output_type": "stream",
     "name": "stdout",
     "text": [
      "    imageFile monsterName                        caption  \\\n",
      "0   monster01      Mingle                 Double Trouble   \n",
      "1   monster02       Yodel               Yodelay Hee Hoo!   \n",
      "2   monster03      Squido              An Eye for Design   \n",
      "3   monster04       Spook                 Safe and Sound   \n",
      "4   monster05    Melville                Networking Guru   \n",
      "5   monster06        Filo  Baker by Day, Techie by Night   \n",
      "6   monster07       Blade               Monster APPetite   \n",
      "7   monster08      Timber                Database Expert   \n",
      "8   monster09   Skedaddle                   Game of Life   \n",
      "9   monster10      Smiley         Don’t Worry, Be Happy!   \n",
      "10  monster11        Frex                    Born Leader   \n",
      "11  monster12       Drift                  In the Clouds   \n",
      "\n",
      "                                          description  price  scariness  \n",
      "0   Mingle excels at doing twice the work in half ...   0.29          2  \n",
      "1   Yodel grew up in a family of singers and loud ...   0.19          4  \n",
      "2   Squido's got his hands or rather tentacles, in...   0.29          3  \n",
      "3   Cracking code and battling hackers is Spook's ...   0.29          5  \n",
      "4   Setting up computer networks has always come e...   0.19          2  \n",
      "5   Filo was named after the wonderful, buttery pa...   0.29          3  \n",
      "6   Blade freelances as a mobile app developer and...   0.29          5  \n",
      "7   A natural-born problem-solver, Timber's especi...   0.19          2  \n",
      "8   When Skedaddle was a teenager, his parents cou...   0.29          4  \n",
      "9   With the bad rap they get from movies, monster...   0.29          1  \n",
      "10  Frex has always had a knack for leadership, st...   0.19          3  \n",
      "11  After years of everyone saying her head was in...   0.29          4  \n"
     ]
    }
   ],
   "metadata": {}
  },
  {
   "cell_type": "code",
   "execution_count": null,
   "source": [],
   "outputs": [],
   "metadata": {}
  }
 ],
 "metadata": {
  "orig_nbformat": 4,
  "language_info": {
   "name": "python",
   "version": "3.9.7",
   "mimetype": "text/x-python",
   "codemirror_mode": {
    "name": "ipython",
    "version": 3
   },
   "pygments_lexer": "ipython3",
   "nbconvert_exporter": "python",
   "file_extension": ".py"
  },
  "kernelspec": {
   "name": "python3",
   "display_name": "Python 3.9.7 64-bit"
  },
  "interpreter": {
   "hash": "aee8b7b246df8f9039afb4144a1f6fd8d2ca17a180786b69acc140d282b71a49"
  }
 },
 "nbformat": 4,
 "nbformat_minor": 2
}