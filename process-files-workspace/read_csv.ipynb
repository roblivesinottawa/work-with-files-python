{
 "cells": [
  {
   "cell_type": "code",
   "execution_count": 2,
   "source": [
    "%pip install pandas"
   ],
   "outputs": [
    {
     "output_type": "stream",
     "name": "stdout",
     "text": [
      "Collecting pandas\n",
      "  Downloading pandas-1.3.3-cp39-cp39-macosx_10_9_x86_64.whl (11.6 MB)\n",
      "\u001b[K     |████████████████████████████████| 11.6 MB 367 kB/s \n",
      "\u001b[?25hCollecting numpy>=1.17.3\n",
      "  Downloading numpy-1.21.2-cp39-cp39-macosx_10_9_x86_64.whl (17.0 MB)\n",
      "\u001b[K     |████████████████████████████████| 17.0 MB 114 kB/s \n",
      "\u001b[?25hCollecting pytz>=2017.3\n",
      "  Downloading pytz-2021.1-py2.py3-none-any.whl (510 kB)\n",
      "\u001b[K     |████████████████████████████████| 510 kB 252 kB/s \n",
      "\u001b[?25hRequirement already satisfied: python-dateutil>=2.7.3 in /Library/Frameworks/Python.framework/Versions/3.9/lib/python3.9/site-packages (from pandas) (2.8.2)\n",
      "Requirement already satisfied: six>=1.5 in /Library/Frameworks/Python.framework/Versions/3.9/lib/python3.9/site-packages (from python-dateutil>=2.7.3->pandas) (1.16.0)\n",
      "Installing collected packages: pytz, numpy, pandas\n",
      "\u001b[33m  WARNING: The scripts f2py, f2py3 and f2py3.9 are installed in '/Library/Frameworks/Python.framework/Versions/3.9/bin' which is not on PATH.\n",
      "  Consider adding this directory to PATH or, if you prefer to suppress this warning, use --no-warn-script-location.\u001b[0m\n",
      "Successfully installed numpy-1.21.2 pandas-1.3.3 pytz-2021.1\n",
      "\u001b[33mWARNING: You are using pip version 21.2.3; however, version 21.2.4 is available.\n",
      "You should consider upgrading via the '/usr/local/bin/python3 -m pip install --upgrade pip' command.\u001b[0m\n",
      "Note: you may need to restart the kernel to use updated packages.\n"
     ]
    }
   ],
   "metadata": {}
  },
  {
   "cell_type": "code",
   "execution_count": 1,
   "source": [
    "import csv\n",
    "import pandas as pd"
   ],
   "outputs": [],
   "metadata": {}
  },
  {
   "cell_type": "code",
   "execution_count": 2,
   "source": [
    "def display_csv_reader():\n",
    "\twith open('monsters.csv') as f:\n",
    "\t\treader = csv.reader(f, delimiter=',')\n",
    "\t\tfor row in reader:\n",
    "\t\t\tprint(row[1])"
   ],
   "outputs": [],
   "metadata": {}
  },
  {
   "cell_type": "code",
   "execution_count": 3,
   "source": [
    "\n",
    "def display_csv_reader_dict():\n",
    "\twith open('monsters.csv') as f:\n",
    "\t\tdictReader = csv.DictReader(f, delimiter=',')\n",
    "\t\tfor row in dictReader:\n",
    "\t\t\tprint(row[\"monsterName\"] + \" is priced at \" + row[\"price\"])"
   ],
   "outputs": [],
   "metadata": {}
  },
  {
   "cell_type": "code",
   "execution_count": 4,
   "source": [
    "\n",
    "def display_csv_pandas():\n",
    "\tdf = pd.read_csv('monsters.csv')\n",
    "\tprint(df)"
   ],
   "outputs": [],
   "metadata": {}
  },
  {
   "cell_type": "code",
   "execution_count": 5,
   "source": [
    "if __name__ == \"__main__\":\n",
    "\tdisplay_csv_pandas()"
   ],
   "outputs": [
    {
     "output_type": "stream",
     "name": "stdout",
     "text": [
      "    imageFile monsterName                        caption  \\\n",
      "0   monster01      Mingle                 Double Trouble   \n",
      "1   monster02       Yodel               Yodelay Hee Hoo!   \n",
      "2   monster03      Squido              An Eye for Design   \n",
      "3   monster04       Spook                 Safe and Sound   \n",
      "4   monster05    Melville                Networking Guru   \n",
      "5   monster06        Filo  Baker by Day, Techie by Night   \n",
      "6   monster07       Blade               Monster APPetite   \n",
      "7   monster08      Timber                Database Expert   \n",
      "8   monster09   Skedaddle                   Game of Life   \n",
      "9   monster10      Smiley         Don’t Worry, Be Happy!   \n",
      "10  monster11        Frex                    Born Leader   \n",
      "11  monster12       Drift                  In the Clouds   \n",
      "\n",
      "                                          description  price  scariness  \n",
      "0   Mingle excels at doing twice the work in half ...   0.29          2  \n",
      "1   Yodel grew up in a family of singers and loud ...   0.19          4  \n",
      "2   Squido's got his hands or rather tentacles, in...   0.29          3  \n",
      "3   Cracking code and battling hackers is Spook's ...   0.29          5  \n",
      "4   Setting up computer networks has always come e...   0.19          2  \n",
      "5   Filo was named after the wonderful, buttery pa...   0.29          3  \n",
      "6   Blade freelances as a mobile app developer and...   0.29          5  \n",
      "7   A natural-born problem-solver, Timber's especi...   0.19          2  \n",
      "8   When Skedaddle was a teenager, his parents cou...   0.29          4  \n",
      "9   With the bad rap they get from movies, monster...   0.29          1  \n",
      "10  Frex has always had a knack for leadership, st...   0.19          3  \n",
      "11  After years of everyone saying her head was in...   0.29          4  \n"
     ]
    }
   ],
   "metadata": {}
  },
  {
   "cell_type": "code",
   "execution_count": 6,
   "source": [
    "df = pd.read_csv('monsters.csv')\n",
    "df"
   ],
   "outputs": [
    {
     "output_type": "execute_result",
     "data": {
      "text/html": [
       "<div>\n",
       "<style scoped>\n",
       "    .dataframe tbody tr th:only-of-type {\n",
       "        vertical-align: middle;\n",
       "    }\n",
       "\n",
       "    .dataframe tbody tr th {\n",
       "        vertical-align: top;\n",
       "    }\n",
       "\n",
       "    .dataframe thead th {\n",
       "        text-align: right;\n",
       "    }\n",
       "</style>\n",
       "<table border=\"1\" class=\"dataframe\">\n",
       "  <thead>\n",
       "    <tr style=\"text-align: right;\">\n",
       "      <th></th>\n",
       "      <th>imageFile</th>\n",
       "      <th>monsterName</th>\n",
       "      <th>caption</th>\n",
       "      <th>description</th>\n",
       "      <th>price</th>\n",
       "      <th>scariness</th>\n",
       "    </tr>\n",
       "  </thead>\n",
       "  <tbody>\n",
       "    <tr>\n",
       "      <th>0</th>\n",
       "      <td>monster01</td>\n",
       "      <td>Mingle</td>\n",
       "      <td>Double Trouble</td>\n",
       "      <td>Mingle excels at doing twice the work in half ...</td>\n",
       "      <td>0.29</td>\n",
       "      <td>2</td>\n",
       "    </tr>\n",
       "    <tr>\n",
       "      <th>1</th>\n",
       "      <td>monster02</td>\n",
       "      <td>Yodel</td>\n",
       "      <td>Yodelay Hee Hoo!</td>\n",
       "      <td>Yodel grew up in a family of singers and loud ...</td>\n",
       "      <td>0.19</td>\n",
       "      <td>4</td>\n",
       "    </tr>\n",
       "    <tr>\n",
       "      <th>2</th>\n",
       "      <td>monster03</td>\n",
       "      <td>Squido</td>\n",
       "      <td>An Eye for Design</td>\n",
       "      <td>Squido's got his hands or rather tentacles, in...</td>\n",
       "      <td>0.29</td>\n",
       "      <td>3</td>\n",
       "    </tr>\n",
       "    <tr>\n",
       "      <th>3</th>\n",
       "      <td>monster04</td>\n",
       "      <td>Spook</td>\n",
       "      <td>Safe and Sound</td>\n",
       "      <td>Cracking code and battling hackers is Spook's ...</td>\n",
       "      <td>0.29</td>\n",
       "      <td>5</td>\n",
       "    </tr>\n",
       "    <tr>\n",
       "      <th>4</th>\n",
       "      <td>monster05</td>\n",
       "      <td>Melville</td>\n",
       "      <td>Networking Guru</td>\n",
       "      <td>Setting up computer networks has always come e...</td>\n",
       "      <td>0.19</td>\n",
       "      <td>2</td>\n",
       "    </tr>\n",
       "    <tr>\n",
       "      <th>5</th>\n",
       "      <td>monster06</td>\n",
       "      <td>Filo</td>\n",
       "      <td>Baker by Day, Techie by Night</td>\n",
       "      <td>Filo was named after the wonderful, buttery pa...</td>\n",
       "      <td>0.29</td>\n",
       "      <td>3</td>\n",
       "    </tr>\n",
       "    <tr>\n",
       "      <th>6</th>\n",
       "      <td>monster07</td>\n",
       "      <td>Blade</td>\n",
       "      <td>Monster APPetite</td>\n",
       "      <td>Blade freelances as a mobile app developer and...</td>\n",
       "      <td>0.29</td>\n",
       "      <td>5</td>\n",
       "    </tr>\n",
       "    <tr>\n",
       "      <th>7</th>\n",
       "      <td>monster08</td>\n",
       "      <td>Timber</td>\n",
       "      <td>Database Expert</td>\n",
       "      <td>A natural-born problem-solver, Timber's especi...</td>\n",
       "      <td>0.19</td>\n",
       "      <td>2</td>\n",
       "    </tr>\n",
       "    <tr>\n",
       "      <th>8</th>\n",
       "      <td>monster09</td>\n",
       "      <td>Skedaddle</td>\n",
       "      <td>Game of Life</td>\n",
       "      <td>When Skedaddle was a teenager, his parents cou...</td>\n",
       "      <td>0.29</td>\n",
       "      <td>4</td>\n",
       "    </tr>\n",
       "    <tr>\n",
       "      <th>9</th>\n",
       "      <td>monster10</td>\n",
       "      <td>Smiley</td>\n",
       "      <td>Don’t Worry, Be Happy!</td>\n",
       "      <td>With the bad rap they get from movies, monster...</td>\n",
       "      <td>0.29</td>\n",
       "      <td>1</td>\n",
       "    </tr>\n",
       "    <tr>\n",
       "      <th>10</th>\n",
       "      <td>monster11</td>\n",
       "      <td>Frex</td>\n",
       "      <td>Born Leader</td>\n",
       "      <td>Frex has always had a knack for leadership, st...</td>\n",
       "      <td>0.19</td>\n",
       "      <td>3</td>\n",
       "    </tr>\n",
       "    <tr>\n",
       "      <th>11</th>\n",
       "      <td>monster12</td>\n",
       "      <td>Drift</td>\n",
       "      <td>In the Clouds</td>\n",
       "      <td>After years of everyone saying her head was in...</td>\n",
       "      <td>0.29</td>\n",
       "      <td>4</td>\n",
       "    </tr>\n",
       "  </tbody>\n",
       "</table>\n",
       "</div>"
      ],
      "text/plain": [
       "    imageFile monsterName                        caption  \\\n",
       "0   monster01      Mingle                 Double Trouble   \n",
       "1   monster02       Yodel               Yodelay Hee Hoo!   \n",
       "2   monster03      Squido              An Eye for Design   \n",
       "3   monster04       Spook                 Safe and Sound   \n",
       "4   monster05    Melville                Networking Guru   \n",
       "5   monster06        Filo  Baker by Day, Techie by Night   \n",
       "6   monster07       Blade               Monster APPetite   \n",
       "7   monster08      Timber                Database Expert   \n",
       "8   monster09   Skedaddle                   Game of Life   \n",
       "9   monster10      Smiley         Don’t Worry, Be Happy!   \n",
       "10  monster11        Frex                    Born Leader   \n",
       "11  monster12       Drift                  In the Clouds   \n",
       "\n",
       "                                          description  price  scariness  \n",
       "0   Mingle excels at doing twice the work in half ...   0.29          2  \n",
       "1   Yodel grew up in a family of singers and loud ...   0.19          4  \n",
       "2   Squido's got his hands or rather tentacles, in...   0.29          3  \n",
       "3   Cracking code and battling hackers is Spook's ...   0.29          5  \n",
       "4   Setting up computer networks has always come e...   0.19          2  \n",
       "5   Filo was named after the wonderful, buttery pa...   0.29          3  \n",
       "6   Blade freelances as a mobile app developer and...   0.29          5  \n",
       "7   A natural-born problem-solver, Timber's especi...   0.19          2  \n",
       "8   When Skedaddle was a teenager, his parents cou...   0.29          4  \n",
       "9   With the bad rap they get from movies, monster...   0.29          1  \n",
       "10  Frex has always had a knack for leadership, st...   0.19          3  \n",
       "11  After years of everyone saying her head was in...   0.29          4  "
      ]
     },
     "metadata": {},
     "execution_count": 6
    }
   ],
   "metadata": {}
  },
  {
   "cell_type": "code",
   "execution_count": 7,
   "source": [
    "df.describe()"
   ],
   "outputs": [
    {
     "output_type": "execute_result",
     "data": {
      "text/html": [
       "<div>\n",
       "<style scoped>\n",
       "    .dataframe tbody tr th:only-of-type {\n",
       "        vertical-align: middle;\n",
       "    }\n",
       "\n",
       "    .dataframe tbody tr th {\n",
       "        vertical-align: top;\n",
       "    }\n",
       "\n",
       "    .dataframe thead th {\n",
       "        text-align: right;\n",
       "    }\n",
       "</style>\n",
       "<table border=\"1\" class=\"dataframe\">\n",
       "  <thead>\n",
       "    <tr style=\"text-align: right;\">\n",
       "      <th></th>\n",
       "      <th>price</th>\n",
       "      <th>scariness</th>\n",
       "    </tr>\n",
       "  </thead>\n",
       "  <tbody>\n",
       "    <tr>\n",
       "      <th>count</th>\n",
       "      <td>12.000000</td>\n",
       "      <td>12.000000</td>\n",
       "    </tr>\n",
       "    <tr>\n",
       "      <th>mean</th>\n",
       "      <td>0.256667</td>\n",
       "      <td>3.166667</td>\n",
       "    </tr>\n",
       "    <tr>\n",
       "      <th>std</th>\n",
       "      <td>0.049237</td>\n",
       "      <td>1.267304</td>\n",
       "    </tr>\n",
       "    <tr>\n",
       "      <th>min</th>\n",
       "      <td>0.190000</td>\n",
       "      <td>1.000000</td>\n",
       "    </tr>\n",
       "    <tr>\n",
       "      <th>25%</th>\n",
       "      <td>0.190000</td>\n",
       "      <td>2.000000</td>\n",
       "    </tr>\n",
       "    <tr>\n",
       "      <th>50%</th>\n",
       "      <td>0.290000</td>\n",
       "      <td>3.000000</td>\n",
       "    </tr>\n",
       "    <tr>\n",
       "      <th>75%</th>\n",
       "      <td>0.290000</td>\n",
       "      <td>4.000000</td>\n",
       "    </tr>\n",
       "    <tr>\n",
       "      <th>max</th>\n",
       "      <td>0.290000</td>\n",
       "      <td>5.000000</td>\n",
       "    </tr>\n",
       "  </tbody>\n",
       "</table>\n",
       "</div>"
      ],
      "text/plain": [
       "           price  scariness\n",
       "count  12.000000  12.000000\n",
       "mean    0.256667   3.166667\n",
       "std     0.049237   1.267304\n",
       "min     0.190000   1.000000\n",
       "25%     0.190000   2.000000\n",
       "50%     0.290000   3.000000\n",
       "75%     0.290000   4.000000\n",
       "max     0.290000   5.000000"
      ]
     },
     "metadata": {},
     "execution_count": 7
    }
   ],
   "metadata": {}
  },
  {
   "cell_type": "code",
   "execution_count": 11,
   "source": [
    "%pip install matplotlib"
   ],
   "outputs": [
    {
     "output_type": "stream",
     "name": "stdout",
     "text": [
      "Collecting matplotlib\n",
      "  Downloading matplotlib-3.4.3-cp39-cp39-macosx_10_9_x86_64.whl (7.2 MB)\n",
      "\u001b[K     |█▉                              | 399 kB 41 kB/s eta 0:02:44"
     ]
    }
   ],
   "metadata": {}
  },
  {
   "cell_type": "code",
   "execution_count": 10,
   "source": [
    "import matplotlib.pyplot as plt"
   ],
   "outputs": [
    {
     "output_type": "error",
     "ename": "ModuleNotFoundError",
     "evalue": "No module named 'matplotlib'",
     "traceback": [
      "\u001b[0;31m---------------------------------------------------------------------------\u001b[0m",
      "\u001b[0;31mModuleNotFoundError\u001b[0m                       Traceback (most recent call last)",
      "\u001b[0;32m/var/folders/b3/ps0s4g_96g765d102cx6xf6r0000gn/T/ipykernel_20989/322768712.py\u001b[0m in \u001b[0;36m<module>\u001b[0;34m\u001b[0m\n\u001b[0;32m----> 1\u001b[0;31m \u001b[0;32mimport\u001b[0m \u001b[0mmatplotlib\u001b[0m\u001b[0;34m.\u001b[0m\u001b[0mpyplot\u001b[0m \u001b[0;32mas\u001b[0m \u001b[0mplt\u001b[0m\u001b[0;34m\u001b[0m\u001b[0;34m\u001b[0m\u001b[0m\n\u001b[0m",
      "\u001b[0;31mModuleNotFoundError\u001b[0m: No module named 'matplotlib'"
     ]
    }
   ],
   "metadata": {}
  },
  {
   "cell_type": "code",
   "execution_count": null,
   "source": [],
   "outputs": [],
   "metadata": {}
  }
 ],
 "metadata": {
  "orig_nbformat": 4,
  "language_info": {
   "name": "python",
   "version": "3.9.7",
   "mimetype": "text/x-python",
   "codemirror_mode": {
    "name": "ipython",
    "version": 3
   },
   "pygments_lexer": "ipython3",
   "nbconvert_exporter": "python",
   "file_extension": ".py"
  },
  "kernelspec": {
   "name": "python3",
   "display_name": "Python 3.9.7 64-bit"
  },
  "interpreter": {
   "hash": "aee8b7b246df8f9039afb4144a1f6fd8d2ca17a180786b69acc140d282b71a49"
  }
 },
 "nbformat": 4,
 "nbformat_minor": 2
}