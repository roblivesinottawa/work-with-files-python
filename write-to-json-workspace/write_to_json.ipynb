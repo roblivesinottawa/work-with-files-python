{
 "cells": [
  {
   "cell_type": "code",
   "execution_count": 1,
   "source": [
    "import json"
   ],
   "outputs": [],
   "metadata": {}
  },
  {
   "cell_type": "code",
   "execution_count": 2,
   "source": [
    "def generate_dictionary(monster_name, title, price, scariness):\n",
    "\treturn {'monster_name': monster_name, 'title': title, \n",
    "\t'price': price, 'scariness': scariness}"
   ],
   "outputs": [],
   "metadata": {}
  },
  {
   "cell_type": "code",
   "execution_count": 3,
   "source": [
    "def write_to_json(dictionary_data):\n",
    "\twith open('monsters.json', 'w') as file:\n",
    "\t\tjson.dump(dictionary_data, file)"
   ],
   "outputs": [],
   "metadata": {}
  },
  {
   "cell_type": "code",
   "execution_count": 4,
   "source": [
    "if __name__ == \"__main__\":\n",
    "\tmonster_one = generate_dictionary('Filo', 'Baker by Day, Techie by Night',\n",
    "\t\t29, 3)\n",
    "\tmonster_two = generate_dictionary('Timber', 'Database Expert', 19, 2)\n",
    "\tmonster_three = generate_dictionary('Blade', 'Monster APPetite', 29, 5)\n",
    "\twrite_to_json([monster_one, monster_two, monster_three])"
   ],
   "outputs": [],
   "metadata": {}
  },
  {
   "cell_type": "code",
   "execution_count": null,
   "source": [],
   "outputs": [],
   "metadata": {}
  }
 ],
 "metadata": {
  "orig_nbformat": 4,
  "language_info": {
   "name": "python",
   "version": "3.8.8",
   "mimetype": "text/x-python",
   "codemirror_mode": {
    "name": "ipython",
    "version": 3
   },
   "pygments_lexer": "ipython3",
   "nbconvert_exporter": "python",
   "file_extension": ".py"
  },
  "kernelspec": {
   "name": "python3",
   "display_name": "Python 3.8.8 64-bit ('base': conda)"
  },
  "interpreter": {
   "hash": "84d3c0b7ec0621ff698973385bdff569ff087c315093dccd41541468df7c99a8"
  }
 },
 "nbformat": 4,
 "nbformat_minor": 2
}