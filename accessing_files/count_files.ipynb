{
 "cells": [
  {
   "cell_type": "code",
   "execution_count": 1,
   "source": [
    "import os\n",
    "from pathlib import Path"
   ],
   "outputs": [],
   "metadata": {}
  },
  {
   "cell_type": "code",
   "execution_count": 2,
   "source": [
    "def count_files_with_os_walk(path):\n",
    "\ttotal = 0\n",
    "\tfor base, subdirs, files in os.walk(path):\n",
    "\t\tfor file in files:\n",
    "\t\t\ttotal += 1\n",
    "\treturn total"
   ],
   "outputs": [],
   "metadata": {}
  },
  {
   "cell_type": "code",
   "execution_count": 3,
   "source": [
    "def count_files_with_scandir(path):\n",
    "\ttotal = 0\n",
    "\tfor entry in os.scandir(path):\n",
    "\t\tif entry.is_file():\n",
    "\t\t\ttotal += 1\n",
    "\t\telse:\n",
    "\t\t\ttotal += count_files_with_scandir(entry)\n",
    "\treturn total"
   ],
   "outputs": [],
   "metadata": {}
  },
  {
   "cell_type": "code",
   "execution_count": 4,
   "source": [
    "def count_files_with_pathlib(path):\n",
    "\ttotal = 0\n",
    "\tfor entry in Path(path).iterdir():\n",
    "\t\tif entry.is_file():\n",
    "\t\t\ttotal += 1\n",
    "\t\telse:\n",
    "\t\t\ttotal += count_files_with_pathlib(entry)\n",
    "\treturn total"
   ],
   "outputs": [],
   "metadata": {}
  },
  {
   "cell_type": "code",
   "execution_count": 6,
   "source": [
    "if __name__ == \"__main__\":\n",
    "\tprint(count_files_with_os_walk('..'))\n",
    "\tprint(count_files_with_scandir('..'))\n",
    "\tprint(count_files_with_pathlib('..'))"
   ],
   "outputs": [
    {
     "output_type": "stream",
     "name": "stdout",
     "text": [
      "683\n",
      "683\n",
      "683\n"
     ]
    }
   ],
   "metadata": {}
  },
  {
   "cell_type": "code",
   "execution_count": null,
   "source": [],
   "outputs": [],
   "metadata": {}
  }
 ],
 "metadata": {
  "orig_nbformat": 4,
  "language_info": {
   "name": "python",
   "version": "3.9.7",
   "mimetype": "text/x-python",
   "codemirror_mode": {
    "name": "ipython",
    "version": 3
   },
   "pygments_lexer": "ipython3",
   "nbconvert_exporter": "python",
   "file_extension": ".py"
  },
  "kernelspec": {
   "name": "python3",
   "display_name": "Python 3.9.7 64-bit"
  },
  "interpreter": {
   "hash": "aee8b7b246df8f9039afb4144a1f6fd8d2ca17a180786b69acc140d282b71a49"
  }
 },
 "nbformat": 4,
 "nbformat_minor": 2
}