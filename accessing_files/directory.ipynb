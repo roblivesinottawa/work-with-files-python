{
 "cells": [
  {
   "cell_type": "code",
   "execution_count": 1,
   "source": [
    "import os"
   ],
   "outputs": [],
   "metadata": {}
  },
  {
   "cell_type": "code",
   "execution_count": 2,
   "source": [
    "def display_cwd():\n",
    "    cwd = os.getcwd()\n",
    "    print(f\"Current Working Directory: {cwd}\")"
   ],
   "outputs": [],
   "metadata": {}
  },
  {
   "cell_type": "code",
   "execution_count": 3,
   "source": [
    "def up_one_level():\n",
    "    os.chdir(\"../\")"
   ],
   "outputs": [],
   "metadata": {}
  },
  {
   "cell_type": "code",
   "execution_count": 4,
   "source": [
    "def display_entries(directory):\n",
    "    with os.scandir(directory) as entries:\n",
    "        for e in entries:\n",
    "            print(e.name)"
   ],
   "outputs": [],
   "metadata": {}
  },
  {
   "cell_type": "code",
   "execution_count": 9,
   "source": [
    "if __name__==\"__main__\":\n",
    "    display_cwd()\n",
    "    # up_one_level()\n",
    "    display_cwd()\n",
    "    display_entries(\"sept_2021\")"
   ],
   "outputs": [
    {
     "output_type": "stream",
     "name": "stdout",
     "text": [
      "Current Working Directory: /Users/roblivesinottawa/Documents/programming\n",
      "Current Working Directory: /Users/roblivesinottawa/Documents/programming\n",
      "BABY_NAMES\n",
      "AIRBNB_NYC\n",
      "CRIME_BOSTON\n",
      ".DS_Store\n",
      "work-with-files-python\n",
      "sql-time-series\n",
      "Docker_Data_Science\n",
      "Python DS Presentations\n",
      "Python_Data_Visualization\n",
      "predictive-analytics\n",
      "Linux_CLI\n",
      "august_2021\n",
      "Life_Expectancy_Dataset\n",
      "python-database\n",
      "Docker_Installation_Basics\n",
      "Python_Data_Analysis\n",
      "Linux_Shell_Scripting\n",
      "sql\n"
     ]
    }
   ],
   "metadata": {}
  }
 ],
 "metadata": {
  "orig_nbformat": 4,
  "language_info": {
   "name": "python",
   "version": "3.9.7",
   "mimetype": "text/x-python",
   "codemirror_mode": {
    "name": "ipython",
    "version": 3
   },
   "pygments_lexer": "ipython3",
   "nbconvert_exporter": "python",
   "file_extension": ".py"
  },
  "kernelspec": {
   "name": "python3",
   "display_name": "Python 3.9.7 64-bit"
  },
  "interpreter": {
   "hash": "aee8b7b246df8f9039afb4144a1f6fd8d2ca17a180786b69acc140d282b71a49"
  }
 },
 "nbformat": 4,
 "nbformat_minor": 2
}