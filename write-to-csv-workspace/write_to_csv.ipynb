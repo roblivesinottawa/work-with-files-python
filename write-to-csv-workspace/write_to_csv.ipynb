{
 "cells": [
  {
   "cell_type": "code",
   "execution_count": 1,
   "source": [
    "import csv"
   ],
   "outputs": [],
   "metadata": {}
  },
  {
   "cell_type": "code",
   "execution_count": 2,
   "source": [
    "def write_to_csv_list():\n",
    "\twith open('products.csv', 'w') as file:\n",
    "\t\twriter = csv.writer(file)\n",
    "\t\twriter.writerow([\"ID\", \"Category\", \"Name\", \"Quantity\", \"Price\"])\n",
    "\t\twriter.writerow([41, \"Furnishings\", \"Office Chair\", 10, 85])\n",
    "\t\twriter.writerow([20, \"Office Supplies\", \"Pens\", 30, 10])\n",
    "\t\twriter.writerow([13, \"Housekeeping\", \"Bed Sheet (Double)\", 15, 20])"
   ],
   "outputs": [],
   "metadata": {}
  },
  {
   "cell_type": "code",
   "execution_count": 3,
   "source": [
    "if __name__ == \"__main__\":\n",
    "\twrite_to_csv_list()"
   ],
   "outputs": [],
   "metadata": {}
  },
  {
   "cell_type": "code",
   "execution_count": 4,
   "source": [
    "def write_to_csv_dictionary():\n",
    "\twith open('products.csv', 'a') as file:\n",
    "\t\theaders = ['id', 'category', 'name','quantity', 'price']\n",
    "\t\twriter = csv.DictWriter(file, fieldnames=headers)\n",
    "\t\t# writer.writeheader()\n",
    "\t\titem = {'id':65, 'category': 'maintenance', 'name':'ladder', 'quantity':33, 'price':50}\n",
    "\t\twriter.writerow(item)"
   ],
   "outputs": [],
   "metadata": {}
  },
  {
   "cell_type": "code",
   "execution_count": 5,
   "source": [
    "if __name__ == \"__main__\":\n",
    "    write_to_csv_dictionary()"
   ],
   "outputs": [],
   "metadata": {}
  },
  {
   "cell_type": "code",
   "execution_count": null,
   "source": [],
   "outputs": [],
   "metadata": {}
  }
 ],
 "metadata": {
  "orig_nbformat": 4,
  "language_info": {
   "name": "python",
   "version": "3.8.8",
   "mimetype": "text/x-python",
   "codemirror_mode": {
    "name": "ipython",
    "version": 3
   },
   "pygments_lexer": "ipython3",
   "nbconvert_exporter": "python",
   "file_extension": ".py"
  },
  "kernelspec": {
   "name": "python3",
   "display_name": "Python 3.8.8 64-bit ('base': conda)"
  },
  "interpreter": {
   "hash": "84d3c0b7ec0621ff698973385bdff569ff087c315093dccd41541468df7c99a8"
  }
 },
 "nbformat": 4,
 "nbformat_minor": 2
}